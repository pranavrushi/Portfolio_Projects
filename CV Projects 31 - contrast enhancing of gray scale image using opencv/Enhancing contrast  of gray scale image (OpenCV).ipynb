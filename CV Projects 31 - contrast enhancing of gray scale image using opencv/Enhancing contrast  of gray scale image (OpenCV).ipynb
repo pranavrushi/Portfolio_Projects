{
 "cells": [
  {
   "cell_type": "code",
   "execution_count": 1,
   "metadata": {},
   "outputs": [
    {
     "ename": "ModuleNotFoundError",
     "evalue": "No module named 'cv2'",
     "output_type": "error",
     "traceback": [
      "\u001b[1;31m---------------------------------------------------------------------------\u001b[0m",
      "\u001b[1;31mModuleNotFoundError\u001b[0m                       Traceback (most recent call last)",
      "\u001b[1;32mc:\\Users\\thamm\\Desktop\\Portfolio_Projects\\CV Projects 31 - contrast enhancing of gray scale image using opencv\\Enhancing contrast  of gray scale image (OpenCV).ipynb Cell 1\u001b[0m in \u001b[0;36m<cell line: 2>\u001b[1;34m()\u001b[0m\n\u001b[0;32m      <a href='vscode-notebook-cell:/c%3A/Users/thamm/Desktop/Portfolio_Projects/CV%20Projects%2031%20-%20contrast%20enhancing%20of%20gray%20scale%20image%20using%20opencv/Enhancing%20contrast%20%20of%20gray%20scale%20image%20%28OpenCV%29.ipynb#W0sZmlsZQ%3D%3D?line=0'>1</a>\u001b[0m \u001b[39m#importing libraries\u001b[39;00m\n\u001b[1;32m----> <a href='vscode-notebook-cell:/c%3A/Users/thamm/Desktop/Portfolio_Projects/CV%20Projects%2031%20-%20contrast%20enhancing%20of%20gray%20scale%20image%20using%20opencv/Enhancing%20contrast%20%20of%20gray%20scale%20image%20%28OpenCV%29.ipynb#W0sZmlsZQ%3D%3D?line=1'>2</a>\u001b[0m \u001b[39mimport\u001b[39;00m \u001b[39mcv2\u001b[39;00m\n\u001b[0;32m      <a href='vscode-notebook-cell:/c%3A/Users/thamm/Desktop/Portfolio_Projects/CV%20Projects%2031%20-%20contrast%20enhancing%20of%20gray%20scale%20image%20using%20opencv/Enhancing%20contrast%20%20of%20gray%20scale%20image%20%28OpenCV%29.ipynb#W0sZmlsZQ%3D%3D?line=2'>3</a>\u001b[0m \u001b[39mimport\u001b[39;00m \u001b[39mnumpy\u001b[39;00m \u001b[39mas\u001b[39;00m \u001b[39mnp\u001b[39;00m\n\u001b[0;32m      <a href='vscode-notebook-cell:/c%3A/Users/thamm/Desktop/Portfolio_Projects/CV%20Projects%2031%20-%20contrast%20enhancing%20of%20gray%20scale%20image%20using%20opencv/Enhancing%20contrast%20%20of%20gray%20scale%20image%20%28OpenCV%29.ipynb#W0sZmlsZQ%3D%3D?line=3'>4</a>\u001b[0m images_val \u001b[39m=\u001b[39m cv2\u001b[39m.\u001b[39mimread(\u001b[39m'\u001b[39m\u001b[39myoaimo.png\u001b[39m\u001b[39m'\u001b[39m, \u001b[39m0\u001b[39m)\n",
      "\u001b[1;31mModuleNotFoundError\u001b[0m: No module named 'cv2'"
     ]
    }
   ],
   "source": [
    "#importing libraries\n",
    "import cv2\n",
    "import numpy as np\n",
    "images_val = cv2.imread('yoaimo.png', 0)\n",
    "images_val=cv2.resize(images_val,(600,1000)) #resizing the images\n",
    "histeq = cv2.equalizeHist(images_val)\n",
    "cv2.imshow('Input', images_val)\n",
    "cv2.imshow('Histogram equalized', histeq)\n",
    "cv2.waitKey(0)\n",
    "cv2.destroyAllWindows() #destroying all folders"
   ]
  },
  {
   "cell_type": "code",
   "execution_count": null,
   "metadata": {},
   "outputs": [],
   "source": []
  }
 ],
 "metadata": {
  "kernelspec": {
   "display_name": "Python 3",
   "language": "python",
   "name": "python3"
  },
  "language_info": {
   "codemirror_mode": {
    "name": "ipython",
    "version": 3
   },
   "file_extension": ".py",
   "mimetype": "text/x-python",
   "name": "python",
   "nbconvert_exporter": "python",
   "pygments_lexer": "ipython3",
   "version": "3.9.13"
  },
  "vscode": {
   "interpreter": {
    "hash": "56f6a3656621af11888d0d32c2a04a40cb4aebfe7c4c48279acb54c5938e53e5"
   }
  }
 },
 "nbformat": 4,
 "nbformat_minor": 2
}
